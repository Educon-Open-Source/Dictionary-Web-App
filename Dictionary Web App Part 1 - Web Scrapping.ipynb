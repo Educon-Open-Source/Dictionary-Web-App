{
 "cells": [
  {
   "cell_type": "markdown",
   "metadata": {},
   "source": [
    "## What Is Web Scraping ?\n",
    "\n",
    "- refers to the extraction of data from a website.\n",
    "\n",
    "## What Is Beautiful Soup ?\n",
    "\n",
    "- Beautiful Soup is a Python library for getting data out of HTML, XML, and other markup languages."
   ]
  },
  {
   "cell_type": "code",
   "execution_count": 1,
   "metadata": {},
   "outputs": [],
   "source": [
    "import requests\n",
    "import pandas as pd\n",
    "import bs4\n",
    "from bs4 import BeautifulSoup as bs"
   ]
  },
  {
   "cell_type": "markdown",
   "metadata": {},
   "source": [
    "# 1. Meaning Scrapping"
   ]
  },
  {
   "cell_type": "code",
   "execution_count": 2,
   "metadata": {},
   "outputs": [],
   "source": [
    "url = 'https://www.yourdictionary.com/{}'.format('happy')"
   ]
  },
  {
   "cell_type": "code",
   "execution_count": 3,
   "metadata": {},
   "outputs": [],
   "source": [
    "headers = {'User-Agent': 'Mozilla/5.0 (Macintosh; Intel Mac OS X 10_10_1) AppleWebKit/537.36 (KHTML, like Gecko) Chrome/39.0.2171.95 Safari/537.36'}"
   ]
  },
  {
   "cell_type": "code",
   "execution_count": 4,
   "metadata": {},
   "outputs": [],
   "source": [
    "response = requests.get(url,headers=headers).text"
   ]
  },
  {
   "cell_type": "code",
   "execution_count": 5,
   "metadata": {},
   "outputs": [],
   "source": [
    "soup = bs(response,'lxml')"
   ]
  },
  {
   "cell_type": "code",
   "execution_count": 6,
   "metadata": {},
   "outputs": [],
   "source": [
    "#soup"
   ]
  },
  {
   "cell_type": "code",
   "execution_count": 7,
   "metadata": {},
   "outputs": [
    {
     "data": {
      "text/plain": [
       "'The definition of happy is someone or something that is feeling great pleasure or joy.    An example of happy is someone who wins the lottery.An example of happy is a baby laughing.'"
      ]
     },
     "execution_count": 7,
     "metadata": {},
     "output_type": "execute_result"
    }
   ],
   "source": [
    "soup.find('div',class_=\"definition-wrapper\").text"
   ]
  },
  {
   "cell_type": "code",
   "execution_count": 8,
   "metadata": {},
   "outputs": [],
   "source": [
    "data = soup.find_all('div',class_=\"definition-wrapper\")"
   ]
  },
  {
   "cell_type": "code",
   "execution_count": 9,
   "metadata": {},
   "outputs": [],
   "source": [
    "#for i in data:\n",
    "#    print(i.text.strip(''))"
   ]
  },
  {
   "cell_type": "code",
   "execution_count": 10,
   "metadata": {},
   "outputs": [],
   "source": [
    "meaning = []\n",
    "c = 0\n",
    "for i in data:\n",
    "    if(c<5):\n",
    "        meaning.append(i.text.strip(''))\n",
    "        c +=1\n",
    "    else:\n",
    "        pass"
   ]
  },
  {
   "cell_type": "code",
   "execution_count": 11,
   "metadata": {},
   "outputs": [
    {
     "data": {
      "text/plain": [
       "5"
      ]
     },
     "execution_count": 11,
     "metadata": {},
     "output_type": "execute_result"
    }
   ],
   "source": [
    "len(meaning)"
   ]
  },
  {
   "cell_type": "code",
   "execution_count": 12,
   "metadata": {},
   "outputs": [
    {
     "data": {
      "text/plain": [
       "['The definition of happy is someone or something that is feeling great pleasure or joy.    An example of happy is someone who wins the lottery.An example of happy is a baby laughing.',\n",
       " 'Cheerful; willing.    Happy to help.',\n",
       " 'Enjoying, showing, or marked by pleasure, satisfaction, or joy.    ',\n",
       " 'Characterized by good luck.    ',\n",
       " 'Having, showing, or causing a feeling of great pleasure, contentment, joy, etc.; joyous; glad; pleased.    ']"
      ]
     },
     "execution_count": 12,
     "metadata": {},
     "output_type": "execute_result"
    }
   ],
   "source": [
    "meaning"
   ]
  },
  {
   "cell_type": "markdown",
   "metadata": {},
   "source": [
    "# 2. Synonyms Scrapping"
   ]
  },
  {
   "cell_type": "code",
   "execution_count": 13,
   "metadata": {},
   "outputs": [],
   "source": [
    "url1 = 'https://thesaurus.yourdictionary.com/{}'.format('happy')\n",
    "response1 = requests.get(url1,headers=headers).text\n",
    "soup1 = bs(response1,'lxml')"
   ]
  },
  {
   "cell_type": "code",
   "execution_count": 14,
   "metadata": {},
   "outputs": [],
   "source": [
    "#soup1"
   ]
  },
  {
   "cell_type": "code",
   "execution_count": 15,
   "metadata": {},
   "outputs": [],
   "source": [
    "synonyms = []\n",
    "c = 0\n",
    "for i in soup1.find_all('div',class_='synonym-link-wrapper'):\n",
    "    if(c<5):\n",
    "        synonyms.append(i.text.strip(''))\n",
    "        c +=1\n",
    "    else:\n",
    "        pass"
   ]
  },
  {
   "cell_type": "code",
   "execution_count": 16,
   "metadata": {},
   "outputs": [
    {
     "data": {
      "text/plain": [
       "['cheerful  ', 'joyful  ', 'glad  ', 'delighted  ', 'mirthful  ']"
      ]
     },
     "execution_count": 16,
     "metadata": {},
     "output_type": "execute_result"
    }
   ],
   "source": [
    "synonyms"
   ]
  },
  {
   "attachments": {},
   "cell_type": "markdown",
   "metadata": {},
   "source": [
    "# 3. Sentences Scrapping"
   ]
  },
  {
   "cell_type": "code",
   "execution_count": 17,
   "metadata": {},
   "outputs": [],
   "source": [
    "url2 = 'https://sentence.yourdictionary.com/{}'.format('happy')\n",
    "response2 = requests.get(url2,headers=headers).text\n",
    "soup2 = bs(response2,'lxml')"
   ]
  },
  {
   "cell_type": "code",
   "execution_count": 18,
   "metadata": {},
   "outputs": [],
   "source": [
    "#soup2"
   ]
  },
  {
   "cell_type": "code",
   "execution_count": 19,
   "metadata": {},
   "outputs": [],
   "source": [
    "sentences = []\n",
    "c = 0\n",
    "for i in soup2.find_all('div',class_='sentence component'):\n",
    "    if(c<10):\n",
    "        sentences.append(i.text.strip(''))\n",
    "        c +=1\n",
    "    else:\n",
    "        pass"
   ]
  },
  {
   "cell_type": "code",
   "execution_count": 20,
   "metadata": {},
   "outputs": [
    {
     "data": {
      "text/plain": [
       "[\"Are you trying to say that you're not happy with your success?\",\n",
       " 'It must be a beautiful and happy place; and I wish to know all about it.',\n",
       " 'Happy to meet you at last, Yully.',\n",
       " \"Maybe she wasn't happy with the way her parents lived.\",\n",
       " '\"Whatever makes you happy – I\\'m for it,\" he said with a sigh.',\n",
       " 'I hope you two are happy together.',\n",
       " \"I'd be happy knowing you're safe.\",\n",
       " \"I'm happy to help you, and I'm happy you came to visit.\",\n",
       " 'You are happy enough I no longer need to dull the pain.',\n",
       " 'So Mildred stayed with me in Cambridge, and for six happy months we were hardly ever apart.']"
      ]
     },
     "execution_count": 20,
     "metadata": {},
     "output_type": "execute_result"
    }
   ],
   "source": [
    "sentences"
   ]
  },
  {
   "cell_type": "code",
   "execution_count": null,
   "metadata": {},
   "outputs": [],
   "source": []
  }
 ],
 "metadata": {
  "kernelspec": {
   "display_name": "Python 3",
   "language": "python",
   "name": "python3"
  },
  "language_info": {
   "codemirror_mode": {
    "name": "ipython",
    "version": 3
   },
   "file_extension": ".py",
   "mimetype": "text/x-python",
   "name": "python",
   "nbconvert_exporter": "python",
   "pygments_lexer": "ipython3",
   "version": "3.8.3"
  }
 },
 "nbformat": 4,
 "nbformat_minor": 4
}
